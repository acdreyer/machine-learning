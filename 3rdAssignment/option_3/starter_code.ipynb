{
 "cells": [
  {
   "cell_type": "code",
   "execution_count": 1,
   "metadata": {},
   "outputs": [],
   "source": [
    "import numpy as np\n",
    "import pandas as pd\n",
    "import matplotlib.pyplot as plt\n",
    "%matplotlib inline"
   ]
  },
  {
   "cell_type": "code",
   "execution_count": 2,
   "metadata": {},
   "outputs": [],
   "source": [
    "raw_data = pd.read_json('food_enforcement_US_bacteria.json', orient='records')"
   ]
  },
  {
   "cell_type": "code",
   "execution_count": 3,
   "metadata": {},
   "outputs": [
    {
     "name": "stdout",
     "output_type": "stream",
     "text": [
      "(6104, 26)\n",
      "0    Native Catch Salmon Bacon, Traditional flavor....\n",
      "1    Delish Fruit Burst 10 oz.(283 g)  Enjoy by: 8/...\n",
      "2    Garden Pure Holiday Fruit Bowl 4 lbs (1.81kg) ...\n",
      "3    Fresh Fruit Product is labeled in part:  \"***F...\n",
      "4    Ready PacÂ¿ Gourmet Fruit Bowl, 64oz , UPC 777...\n",
      "5    River Ranch brand Diced Grn Cabbage w/Color, 4...\n",
      "6    Sweet and Sour Stir Fry packaged under the fol...\n",
      "7    Onion Slab Cut.  Products are labeled in part:...\n",
      "8    MIX w/yellow onions used as an ingredient.  Pr...\n",
      "9    Fresh n Easy brand Shred Grn Cabbage w/Color, ...\n",
      "Name: product_description, dtype: object\n"
     ]
    }
   ],
   "source": [
    "print(raw_data.shape)\n",
    "print(raw_data.head(10).product_description)"
   ]
  },
  {
   "cell_type": "markdown",
   "metadata": {},
   "source": [
    "### Bag of words feature representation for descriptive text"
   ]
  },
  {
   "cell_type": "code",
   "execution_count": 4,
   "metadata": {},
   "outputs": [
    {
     "data": {
      "text/plain": [
       "(6104, 13797)"
      ]
     },
     "execution_count": 4,
     "metadata": {},
     "output_type": "execute_result"
    }
   ],
   "source": [
    "from sklearn.feature_extraction.text import CountVectorizer\n",
    "vectorizer = CountVectorizer()\n",
    "\n",
    "corpus = raw_data['product_description']\n",
    "X = vectorizer.fit_transform(corpus)\n",
    "X.shape"
   ]
  },
  {
   "cell_type": "markdown",
   "metadata": {},
   "source": [
    "### fit Kmeans"
   ]
  },
  {
   "cell_type": "code",
   "execution_count": 5,
   "metadata": {},
   "outputs": [
    {
     "data": {
      "text/plain": [
       "KMeans(algorithm='auto', copy_x=True, init='k-means++', max_iter=300,\n",
       "       n_clusters=50, n_init=30, n_jobs=None, precompute_distances='auto',\n",
       "       random_state=None, tol=0.0001, verbose=0)"
      ]
     },
     "execution_count": 5,
     "metadata": {},
     "output_type": "execute_result"
    }
   ],
   "source": [
    "#fit Kmeans with k clusters\n",
    "from sklearn.cluster import KMeans\n",
    "km = KMeans(n_clusters=50,n_init=30)\n",
    "km.fit(X)"
   ]
  },
  {
   "cell_type": "markdown",
   "metadata": {},
   "source": [
    "### labels are named with integers and stored in the `labels_` attribute"
   ]
  },
  {
   "cell_type": "code",
   "execution_count": 6,
   "metadata": {},
   "outputs": [
    {
     "data": {
      "text/plain": [
       "array([25, 26, 26, ..., 26,  6,  4])"
      ]
     },
     "execution_count": 6,
     "metadata": {},
     "output_type": "execute_result"
    }
   ],
   "source": [
    "km.labels_"
   ]
  },
  {
   "cell_type": "markdown",
   "metadata": {},
   "source": [
    "### take a look at one of the cluster results"
   ]
  },
  {
   "cell_type": "code",
   "execution_count": 7,
   "metadata": {},
   "outputs": [
    {
     "name": "stdout",
     "output_type": "stream",
     "text": [
      "Elbow Macaroni Salad, Formula MA.22, packaged under the following labels:    -West Creek Elbow Macaroni Salad packaged in 2/5-lb carton cases. Distributed by Performance Food Group, Richmond, VA.    -Cobblestreet Market Elbow Macaroni Salad packaged in 3/8-lb carton cases. Marketed by Independent Marketing Alliance, Houston, TX.    -Essential Everyday Classic Macaroni Salad packaged in 6/16-oz and 6/3-lb carton cases. Distributed by Supervalu Inc., Eden Prairie, MN.    -Little Salad Bar Macaroni Salad packaged in 3/32-oz carton cases. Distributed by ALDI Inc., Batavia, IL.    -Cross Valley Farms Elbow Macaroni Salad packaged in 2/8-lb carton cases. Distributed by US Foods, Rosemont, IL.    -Reser's Elbow Macaroni Salad packaged in 3/8-lb, 3/4-lb, 12/3.5-oz, 6/32-oz, 12/12-oz, 12/454 grams, 12/16-oz, 6/32-oz and 6/3-lb carton cases. Reser's Fine Foods, Inc., Beaverton, OR.    -King Soopers City Market Regular Macaroni Salad packaged in 3/4-lb carton cases.  Distributed by King Soopers Inc., Denver, CO.    -Yoder's Macaroni Salad Original Recipe packaged in 6/32-oz, 6/3-lb, 2/5-lb and 12/16-oz carton cases.  Distributed By Lipari Foods, Warren, MI.    -Sysco Classic Elbow Macaroni Salad packaged in 3/8-lb carton cases. Distributed By Sysco Corporation, Houston, TX.    \n",
      "**********\n",
      "Potato Salad, Formula PO.70, packaged under these labels:    -Reser's Fine Foods, Original Potato Salad, in 12/12-oz (UPC 071117182200), 6/32-oz (UPC 071117181500), 3/4-lb (UPC 071117002232), 3/8-lb (UPC 071117002157), 12/3.5-oz (UPC 071117170009), 12/5.5-oz (UPC 071117171006) and 2/10-lb (UPC 071117002782) container cases.  Also distributed in a 6/4-lb party pack (UPC 071117001624). Distributed by: Reser's Fine-Foods, Beaverton, OR.    -Yoder's American Potato Salad, in 6/32-oz (UPC 073474010462), 2/5-lb (UPC 073474550098), 6/3-lb  (UPC 073474010219) and 12/16-oz  (UPC 073474887385) carton cases.    -West Creek, Original Potato Salad, in 2/5-lb carton cases. (UPC 806795286793) Distributed by Performance Food Group, Richmond, VA.    -Essential Everday Original Potato Salad packaged in 6/16-oz (UPC 041303820131) and 6/3-lb (UPC 041303820209) carton cases. Distributed by Supervalu Inc., Eden Prairie, MN.    -7-11 Potato Salad, in 12/7-oz carton cases.  (UPC 052548517526) Distributed by 7-Eleven, Inc., Dallas, TX.    -Cross Valley Farms Family Style Potato Salad packaged in 2/8-lb carton cases. Distributed by US Foodservice, Inc., Rosemont, IL. UPC 758108373877    -Sysco Classic Potato Salad, in 3/8-lb carton cases.  (UPC 074865100915)    \n",
      "**********\n",
      "Mustard Potato Salad, Formula PO.57, packaged under these labels:     -Reser's Mustard Potato Salad, packaged in 12/16-oz (UPC 071117190038 & 071117183344), 6/32-oz (UPC 071117181531 ), 6/3-lb (UPC 071117193039), 3/4-lb (UPC 071117002270 ) and 3/8-lb carton cases.  Also Reser's Deli Salads packaged in 6/3-lb carton cases. Distributed by Reser's Fine Foods, Beaverton, OR.    -Essentail Everyday Mustard Potato Salad, packaged in 6/16-oz (UPC 041303820162 ) and 6/3-lb (UPC 041303820193) carton cases.  Distributed by Supervalu Inc., Eden Prairie, MN.    -Cross Valley Farms Potato Salad, packaged in 2/8-lb carton cases. Distributed by U.S. Foodservice, Inc., Rosemont, IL. UPC 758108301597    -King Sooper's Mustard Potato Salad, packaged in 12/1-lb (UPC 071117654752) and 3/4-lb (UPC 071117646405) carton cases.    -West Creek Mustard Potato Salad, packaged in 2/5-lb  carton cases. Distributed by Performance Food Group, Richmond, VA.  UPC 806795286809    -Little Salad Bar Mustard Potato Salad (Aldi brand), packaged in 6/32-oz carton cases. Distributed by ALDI Inc., Batavia, IL.  UPC 041498182915    \n",
      "**********\n",
      "1) Frontier Natural Products Co-op, Whole Black Peppercorns, Certified Organic, Piper nigrum. Net 11.3 Kg 25 LB. Packaged in corrugated cardboard boxes. Firm name on the label is Frontier in Norway, IA. UPC 0-89836-82603-9.;  2) Frontier Natural Products Co-op, Whole Black Peppercorns, Certified Organic, Piper nigrum. Net 453 g 16 OZ. Packaged in foil pouches. Firm name on the label is Frontier in Norway, IA. UPC 0-89836-02603-3;  3) Frontier Natural Products Co-op, Black Peppercorns Whole. Net WT. 2.12 OZ (60 g). Packaged in glass jars. Distributed by Frontier Natural Products Co-op, Norway, IA. UPC 0-89836-18435-1;   4) Simply Organic, black peppercorns. NET WT. 2.65 OZ. (75g). Packaged in glass jars. Distributed by Frontier Natural Products, Norway, IA. UPC 0-89836-18524-2.;  5) Simply Organic, Adjustable Grinder Cap, daily grind. NET WT. 2.65 OZ. (75g). Packaged in glass jars with a grinder cap. Distributed by Frontier Natural Products, Norway, IA. UPC 0-89836-19218-9.;  6) Simply Organic, black peppercorns, poivre noir en grains. NET WT. 2.65 OZ. POID NET 75g. Packaged in glass jars. Manufactured by Frontier Natural Products, Norway, IA. UPC 0-89836-19210-3.;  7) Simply Organic, Adjustable Grinder, Broyeur RÂ¿glable, black peppercorns, poivre noir en grains. NET WT. 2.65 OZ. POID NET 75g. Packaged in glass jars. Manufactured by Frontier Natural Products, Norway, IA. UPC 0-89836-19218-9.;  8) 365, Black Peppercorns, NET WT 1.87 OZ (53g). Packaged in glass jars. Distributed by Whole Foods Market, Austin Texas. UPC 0-99482-44497-6;  9) 365, Black Peppercorns, NET WT 2.12 OZ (60g). Packaged in glass jars. Distributed by Whole Foods Market, Austin Texas. UPC 0-99482-44563-8.;  10) 365, Black Peppercorns, NET WT 8.08 OZ (229g). Packaged in glass jars. Distributed by Whole Foods Market, Austin Texas. UPC 0-99482-44511-9.;  11) 365, Organic Black Peppercorns Grains de Poivre noir biologique, 60g (2.12 OZ). Packaged in glass jars. Distributed by Whole Foods Market, Austin Texas. UPC 0-99482-73914-0;  12) Nature's Place Organic, Black Peppercorns, NET WT. 2.26 OZ (64g). Packaged in glass jars. Distributed by DZA Brands, LLC in Salisbury, NC. UPC 7-25439-95273-6;  13) Meijer Organics, Black Peppercorns, NET WT. 2.26 OZ (64g). Packaged in plastic jars. Item number ME81732. UPC 7-13733-78173-2;\n",
      "**********\n"
     ]
    }
   ],
   "source": [
    "# You should look at all the clusters, but let's look at cluster \"15\" (I chose this arbitrarily; you should look at all of them)\n",
    "\n",
    "for i in range(0,len(km.labels_)):\n",
    "    if km.labels_[i] == 15:\n",
    "        print(raw_data['product_description'][i])\n",
    "        print('**********')"
   ]
  },
  {
   "cell_type": "code",
   "execution_count": null,
   "metadata": {},
   "outputs": [],
   "source": []
  }
 ],
 "metadata": {
  "kernelspec": {
   "display_name": "Python 3",
   "language": "python",
   "name": "python3"
  },
  "language_info": {
   "codemirror_mode": {
    "name": "ipython",
    "version": 3
   },
   "file_extension": ".py",
   "mimetype": "text/x-python",
   "name": "python",
   "nbconvert_exporter": "python",
   "pygments_lexer": "ipython3",
   "version": "3.7.4"
  }
 },
 "nbformat": 4,
 "nbformat_minor": 2
}
